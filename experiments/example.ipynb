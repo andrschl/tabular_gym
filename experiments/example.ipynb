{
 "cells": [
  {
   "cell_type": "code",
   "execution_count": 5,
   "metadata": {
    "pycharm": {
     "is_executing": true
    },
    "tags": []
   },
   "outputs": [],
   "source": [
    "import sys\n",
    "\n",
    "import scipy.linalg\n",
    "\n",
    "sys.path.append('../..')\n",
    "from env.cmdp import *\n",
    "from env.gridworld import *\n",
    "from utils.geometric_tools import *\n",
    "from visualization.mdp_vis import *\n",
    "from scipy.special import kl_div\n",
    "from scipy.spatial import ConvexHull\n",
    "import numpy as np\n",
    "import numpy.random as rn\n",
    "import matplotlib.pyplot as plt\n",
    "import math\n",
    "from scipy.spatial.transform import Rotation\n",
    "import chart_studio.plotly as py\n",
    "from pathlib import Path\n",
    "\n",
    "from chart_studio import plotly as py\n",
    "import plotly.io as pio\n",
    "pio.renderers.default = \"browser\"\n",
    "from IPython.display import display, Latex"
   ]
  },
  {
   "cell_type": "code",
   "execution_count": 6,
   "metadata": {
    "collapsed": false,
    "jupyter": {
     "outputs_hidden": false
    },
    "pycharm": {
     "name": "#%%\n"
    }
   },
   "outputs": [],
   "source": [
    "# fixed nu0, perturbed P\n",
    "if 'fig' in globals():\n",
    "    del fig\n",
    "n = 2\n",
    "m = 2\n",
    "gamma = 0.9\n",
    "nu0 = unit_vector(np.ones(n), ord=1)\n",
    "P1 = np.array([[[1, 0],[1, 0]], [[1, 0],[1, 0]]])\n",
    "delta = 0.1\n",
    "P2 = np.array([[[0.1, 0.9],[0, 1]], [[0, 1],[0, 1]]])\n",
    "P3 = np.array([[[0, 1],[1, 0]], [[0, 1],[0, 1]]])\n",
    "env1 = CMDP(n, m, gamma, nu0 = nu0, P=P1)\n",
    "env2 = CMDP(n, m, gamma, nu0 = nu0, P=P2)\n",
    "env3 = CMDP(n, m, gamma, nu0 = nu0, P=P3)\n",
    "fig, planes = plot_occ_spaces([env1, env2, env3], colors=['red', 'green', 'darkgray'], labels=[r'$\\mathcal{M}_{P_0}$', r'$\\mathcal{M}_{P_1}$', r'$\\mathcal{M}_{P}$'])\n",
    "fig.show()"
   ]
  },
  {
   "cell_type": "code",
   "execution_count": 8,
   "metadata": {},
   "outputs": [],
   "source": [
    "# Define the expert's reward and temperature\n",
    "rE = np.zeros((2,2))\n",
    "rE[1,:] = 1.0\n",
    "tau = 0.1"
   ]
  },
  {
   "cell_type": "code",
   "execution_count": 9,
   "metadata": {
    "tags": []
   },
   "outputs": [],
   "source": [
    "# Get reward via potential shaping\n",
    "rhat = np.zeros((2,2))\n",
    "rhat[1,:] = -1.0"
   ]
  },
  {
   "cell_type": "code",
   "execution_count": 10,
   "metadata": {},
   "outputs": [
    {
     "name": "stdout",
     "output_type": "stream",
     "text": [
      "start soft value iteration:\n",
      "step:  5 , error:  0.045477386516538015\n",
      "step:  10 , error:  0.02685394196415053\n",
      "step:  15 , error:  0.01585698419041126\n",
      "step:  20 , error:  0.0093633905945959\n",
      "step:  25 , error:  0.005528988512202959\n",
      "step:  30 , error:  0.003264812426570729\n",
      "step:  35 , error:  0.0019278390897657927\n",
      "step:  40 , error:  0.0011383697041157381\n",
      "step:  45 , error:  0.0006721959265832966\n",
      "step:  50 , error:  0.00039692497268828397\n",
      "step:  55 , error:  0.00023438022712274353\n",
      "step:  60 , error:  0.00013839918031366416\n",
      "step:  65 , error:  8.172333198341875e-05\n",
      "step:  70 , error:  4.825681030284912e-05\n",
      "step:  75 , error:  2.8495163915787103e-05\n",
      "step:  80 , error:  1.6826109340617457e-05\n",
      "step:  85 , error:  9.935649304515515e-06\n",
      "start soft value iteration:\n",
      "step:  5 , error:  0.7015773865165382\n",
      "step:  10 , error:  0.4142744309641504\n",
      "step:  15 , error:  0.24462490874002185\n",
      "step:  20 , error:  0.1444485623618963\n",
      "step:  25 , error:  0.08529543158907593\n",
      "step:  30 , error:  0.05036609939903336\n",
      "step:  35 , error:  0.029740678034135826\n",
      "step:  40 , error:  0.017561572972377704\n",
      "step:  45 , error:  0.01036993322445845\n",
      "step:  50 , error:  0.006123341869711751\n",
      "step:  55 , error:  0.0036157721406482324\n",
      "step:  60 , error:  0.002135077291329779\n",
      "step:  65 , error:  0.0012607417897569917\n",
      "step:  70 , error:  0.0007444554194364628\n",
      "step:  75 , error:  0.0004395934806211699\n",
      "step:  80 , error:  0.0002595755543719491\n",
      "step:  85 , error:  0.0001532767691010406\n",
      "step:  90 , error:  9.050839938673505e-05\n",
      "step:  95 , error:  5.344430475417994e-05\n",
      "step:  100 , error:  3.155832751389198e-05\n",
      "step:  105 , error:  1.8634876814971335e-05\n",
      "step:  110 , error:  1.100370840845244e-05\n",
      "start soft value iteration:\n",
      "step:  5 , error:  0.7015773865165382\n",
      "step:  10 , error:  0.4142744309641513\n",
      "step:  15 , error:  0.24462490874002185\n",
      "step:  20 , error:  0.1444485623618963\n",
      "step:  25 , error:  0.08529543158907593\n",
      "step:  30 , error:  0.05036609939903158\n",
      "step:  35 , error:  0.029740678034135826\n",
      "step:  40 , error:  0.017561572972375927\n",
      "step:  45 , error:  0.01036993322445845\n",
      "step:  50 , error:  0.006123341869711751\n",
      "step:  55 , error:  0.003615772140646456\n",
      "step:  60 , error:  0.002135077291329779\n",
      "step:  65 , error:  0.0012607417897569917\n",
      "step:  70 , error:  0.0007444554194346864\n",
      "step:  75 , error:  0.0004395934806211699\n",
      "step:  80 , error:  0.0002595755543719491\n",
      "step:  85 , error:  0.0001532767691010406\n",
      "step:  90 , error:  9.050839938673505e-05\n",
      "step:  95 , error:  5.344430475417994e-05\n",
      "step:  100 , error:  3.155832751389198e-05\n",
      "step:  105 , error:  1.8634876814971335e-05\n",
      "step:  110 , error:  1.100370840845244e-05\n"
     ]
    }
   ],
   "source": [
    "# Compute optimal occupancies for the experts\n",
    "tau = 0.1\n",
    "vE1 = env1.soft_v_it(np.zeros(2), tau, r=rE, max_iters=1e3)\n",
    "piE1 = env1.soft_v_greedy(vE1, tau, r=rE)\n",
    "muE1 = env1.policy2stateactionocc(piE1)\n",
    "\n",
    "vE2 = env2.soft_v_it(np.zeros(2), tau, r=rE, max_iters=1e3)\n",
    "piE2 = env2.soft_v_greedy(vE2, tau, r=rE)\n",
    "muE2 = env2.policy2stateactionocc(piE2)\n",
    "\n",
    "vE3 = env3.soft_v_it(np.zeros(2), tau, r=rE, max_iters=1e3)\n",
    "piE3 = env3.soft_v_greedy(vE3, tau, r=rE)\n",
    "muE3 = env3.policy2stateactionocc(piE3)"
   ]
  },
  {
   "cell_type": "code",
   "execution_count": 11,
   "metadata": {},
   "outputs": [
    {
     "name": "stdout",
     "output_type": "stream",
     "text": [
      "start soft value iteration:\n",
      "step:  5 , error:  0.045477386516538015\n",
      "step:  10 , error:  0.02685394196415053\n",
      "step:  15 , error:  0.01585698419041126\n",
      "step:  20 , error:  0.009363390594595955\n",
      "step:  25 , error:  0.005528988512202959\n",
      "step:  30 , error:  0.0032648124265707845\n",
      "step:  35 , error:  0.0019278390897657927\n",
      "step:  40 , error:  0.0011383697041157381\n",
      "step:  45 , error:  0.0006721959265832966\n",
      "step:  50 , error:  0.00039692497268817295\n",
      "step:  55 , error:  0.0002343802271226325\n",
      "step:  60 , error:  0.00013839918031366416\n",
      "step:  65 , error:  8.172333198341875e-05\n",
      "step:  70 , error:  4.825681030284912e-05\n",
      "step:  75 , error:  2.8495163915787103e-05\n",
      "step:  80 , error:  1.6826109340617457e-05\n",
      "step:  85 , error:  9.935649304515515e-06\n",
      "start soft value iteration:\n",
      "step:  5 , error:  0.610622613483462\n",
      "step:  10 , error:  0.3605665470358499\n",
      "step:  15 , error:  0.21291094035919844\n",
      "step:  20 , error:  0.1257217811727056\n",
      "step:  25 , error:  0.07423745456466868\n",
      "step:  30 , error:  0.0438364745458939\n",
      "step:  35 , error:  0.02588499985460402\n",
      "step:  40 , error:  0.015284833564145117\n",
      "step:  45 , error:  0.009025541371293855\n",
      "step:  50 , error:  0.005329491924333851\n",
      "step:  55 , error:  0.003147011686401413\n",
      "step:  60 , error:  0.0018582789307028946\n",
      "step:  65 , error:  0.0010972951257901542\n",
      "step:  70 , error:  0.0006479417988298763\n",
      "step:  75 , error:  0.0003826031527918161\n",
      "step:  80 , error:  0.00022592333569093626\n",
      "step:  85 , error:  0.0001334054704926757\n",
      "step:  90 , error:  7.877459627003702e-05\n",
      "step:  95 , error:  4.651561135204929e-05\n",
      "step:  100 , error:  2.7467003349102015e-05\n",
      "step:  105 , error:  1.621899080817002e-05\n",
      "step:  110 , error:  9.577151882211865e-06\n",
      "start soft value iteration:\n",
      "step:  5 , error:  0.610622613483462\n",
      "step:  10 , error:  0.3605665470358499\n",
      "step:  15 , error:  0.21291094035919844\n",
      "step:  20 , error:  0.1257217811727056\n",
      "step:  25 , error:  0.07423745456466868\n",
      "step:  30 , error:  0.043836474545891235\n",
      "step:  35 , error:  0.02588499985460402\n",
      "step:  40 , error:  0.015284833564145117\n",
      "step:  45 , error:  0.009025541371293855\n",
      "step:  50 , error:  0.005329491924333851\n",
      "step:  55 , error:  0.003147011686401413\n",
      "step:  60 , error:  0.0018582789307011183\n",
      "step:  65 , error:  0.0010972951257901542\n",
      "step:  70 , error:  0.0006479417988298763\n",
      "step:  75 , error:  0.00038260315279003976\n",
      "step:  80 , error:  0.00022592333569093626\n",
      "step:  85 , error:  0.0001334054704926757\n",
      "step:  90 , error:  7.877459627003702e-05\n",
      "step:  95 , error:  4.651561135204929e-05\n",
      "step:  100 , error:  2.7467003347325658e-05\n",
      "step:  105 , error:  1.621899080817002e-05\n",
      "step:  110 , error:  9.577151882211865e-06\n"
     ]
    }
   ],
   "source": [
    "# Compute optimal occupancies for rhat\n",
    "tau = 0.1\n",
    "vhat1 = env1.soft_v_it(np.zeros(2), tau, r=rhat, max_iters=1e3)\n",
    "pihat1 = env1.soft_v_greedy(vhat1, tau, r=rhat)\n",
    "muhat1 = env1.policy2stateactionocc(pihat1)\n",
    "\n",
    "vhat2 = env2.soft_v_it(np.zeros(2), tau, r=rhat, max_iters=1e3)\n",
    "pihat2 = env2.soft_v_greedy(vhat2, tau, r=rhat)\n",
    "muhat2 = env2.policy2stateactionocc(pihat2)\n",
    "\n",
    "vhat3 = env3.soft_v_it(np.zeros(2), tau, r=rhat, max_iters=1e3)\n",
    "pihat3 = env3.soft_v_greedy(vhat3, tau, r=rhat)\n",
    "muhat3 = env3.policy2stateactionocc(pihat3)"
   ]
  },
  {
   "cell_type": "code",
   "execution_count": 12,
   "metadata": {},
   "outputs": [
    {
     "data": {
      "text/plain": [
       "array([[0.5, 0.5],\n",
       "       [0.5, 0.5]])"
      ]
     },
     "metadata": {},
     "output_type": "display_data"
    },
    {
     "data": {
      "text/plain": [
       "array([[0.28241464, 0.71758536],\n",
       "       [0.5       , 0.5       ]])"
      ]
     },
     "metadata": {},
     "output_type": "display_data"
    },
    {
     "data": {
      "text/plain": [
       "array([[9.99933867e-01, 6.61332391e-05],\n",
       "       [5.00000000e-01, 5.00000000e-01]])"
      ]
     },
     "metadata": {},
     "output_type": "display_data"
    }
   ],
   "source": [
    "display(piE1, piE2, piE3)"
   ]
  },
  {
   "cell_type": "code",
   "execution_count": 13,
   "metadata": {
    "collapsed": false,
    "jupyter": {
     "outputs_hidden": false
    },
    "pycharm": {
     "name": "#%%\n"
    }
   },
   "outputs": [],
   "source": [
    "# Define Bregman divergence (the suboptimality of mu1 for the reward that makes mu2 optimal)\n",
    "def D(env, mu1, mu2, tau=1.0):\n",
    "    if np.all(mu1 >= 0) & np.all(mu1 <= 1) & np.all(mu2 >= 0) & np.all(mu2 <= 1):\n",
    "        pi2 = env.occ2policy(mu2)\n",
    "        pi1 = env.occ2policy(mu1)\n",
    "        policy_kl = np.where(mu1 == 0, 0, np.where(mu2 == 0, float('inf'), mu1 * np.log(pi1 / pi2)))\n",
    "        return tau / (1-env.gamma) * np.sum(policy_kl)\n",
    "    else:\n",
    "        return float('inf')"
   ]
  },
  {
   "cell_type": "code",
   "execution_count": 14,
   "metadata": {},
   "outputs": [
    {
     "data": {
      "text/latex": [
       "$\\ell_{P_1}(r^E, \\hat{\\mu}_{P_1}$):"
      ],
      "text/plain": [
       "<IPython.core.display.Latex object>"
      ]
     },
     "metadata": {},
     "output_type": "display_data"
    },
    {
     "data": {
      "text/plain": [
       "0.0"
      ]
     },
     "metadata": {},
     "output_type": "display_data"
    },
    {
     "data": {
      "text/latex": [
       "$\\ell_{P_1}(\\hat{r}, \\mu^E_{P_1}$):"
      ],
      "text/plain": [
       "<IPython.core.display.Latex object>"
      ]
     },
     "metadata": {},
     "output_type": "display_data"
    },
    {
     "data": {
      "text/plain": [
       "0.0"
      ]
     },
     "metadata": {},
     "output_type": "display_data"
    },
    {
     "data": {
      "text/latex": [
       "$\\ell_{P_2}(r^E, \\hat{\\mu}_{P_2}$):"
      ],
      "text/plain": [
       "<IPython.core.display.Latex object>"
      ]
     },
     "metadata": {},
     "output_type": "display_data"
    },
    {
     "data": {
      "text/plain": [
       "0.022108280682828715"
      ]
     },
     "metadata": {},
     "output_type": "display_data"
    },
    {
     "data": {
      "text/latex": [
       "$\\ell_{P_2}(\\hat{r}, \\mu^E_{P_2}$):"
      ],
      "text/plain": [
       "<IPython.core.display.Latex object>"
      ]
     },
     "metadata": {},
     "output_type": "display_data"
    },
    {
     "data": {
      "text/plain": [
       "0.021272531364817236"
      ]
     },
     "metadata": {},
     "output_type": "display_data"
    },
    {
     "data": {
      "text/latex": [
       "$\\ell_{P_3}(r^E, \\hat{\\mu}_{P_3}$):"
      ],
      "text/plain": [
       "<IPython.core.display.Latex object>"
      ]
     },
     "metadata": {},
     "output_type": "display_data"
    },
    {
     "data": {
      "text/plain": [
       "4.811919538023277"
      ]
     },
     "metadata": {},
     "output_type": "display_data"
    },
    {
     "data": {
      "text/latex": [
       "$\\ell_{P_3}(\\hat{r}, \\mu^E_{P_3}$):"
      ],
      "text/plain": [
       "<IPython.core.display.Latex object>"
      ]
     },
     "metadata": {},
     "output_type": "display_data"
    },
    {
     "data": {
      "text/plain": [
       "4.187982472346701"
      ]
     },
     "metadata": {},
     "output_type": "display_data"
    }
   ],
   "source": [
    "# Calculate sub-optimality of recovered policies\n",
    "display(Latex(r'$\\ell_{P_1}(r^E, \\hat{\\mu}_{P_1}$):'), D(env1, env1.policy2stateactionocc(pihat1), muE1, tau=tau), Latex(r'$\\ell_{P_1}(\\hat{r}, \\mu^E_{P_1}$):'), D(env1, muE1, env1.policy2stateactionocc(pihat1), tau=tau))\n",
    "display(Latex(r'$\\ell_{P_2}(r^E, \\hat{\\mu}_{P_2}$):'), D(env2, env2.policy2stateactionocc(pihat2), muE2, tau=tau), Latex(r'$\\ell_{P_2}(\\hat{r}, \\mu^E_{P_2}$):'), D(env2, muE2, env2.policy2stateactionocc(pihat2), tau=tau))\n",
    "display(Latex(r'$\\ell_{P_3}(r^E, \\hat{\\mu}_{P_3}$):'), D(env3, env3.policy2stateactionocc(pihat3), muE3, tau=tau), Latex(r'$\\ell_{P_3}(\\hat{r}, \\mu^E_{P_3}$):'), D(env3, muE3, env3.policy2stateactionocc(pihat3), tau=tau))"
   ]
  },
  {
   "cell_type": "code",
   "execution_count": 20,
   "metadata": {},
   "outputs": [
    {
     "data": {
      "text/plain": [
       "1.5131928661531149"
      ]
     },
     "execution_count": 20,
     "metadata": {},
     "output_type": "execute_result"
    }
   ],
   "source": [
    "# Compute the distance between rhat and rE in R^(SA)/U_P.\n",
    "quotient_norm(rearrange(rhat-rE, 's a->(a s)'), env3.A_matrix(), is_orth=False)"
   ]
  },
  {
   "cell_type": "code",
   "execution_count": null,
   "metadata": {},
   "outputs": [],
   "source": []
  }
 ],
 "metadata": {
  "kernelspec": {
   "display_name": "Python 3 (ipykernel)",
   "language": "python",
   "name": "python3"
  },
  "language_info": {
   "codemirror_mode": {
    "name": "ipython",
    "version": 3
   },
   "file_extension": ".py",
   "mimetype": "text/x-python",
   "name": "python",
   "nbconvert_exporter": "python",
   "pygments_lexer": "ipython3",
   "version": "3.10.4"
  }
 },
 "nbformat": 4,
 "nbformat_minor": 4
}
